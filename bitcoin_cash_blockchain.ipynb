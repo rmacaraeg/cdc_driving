{
 "cells": [
  {
   "cell_type": "code",
   "execution_count": 5,
   "metadata": {},
   "outputs": [],
   "source": [
    "import pandas as pd\n",
    "\n",
    "from google.cloud import bigquery\n",
    "\n",
    "import os\n",
    "os.environ[\"GOOGLE_APPLICATION_CREDENTIALS\"]=\"/Users/randymacaraeg/Desktop/Python/cdc_driving/Bitcoin-45ba61c33f92.json\"\n",
    "\n",
    "#use this website\n",
    "#https://medium.com/@rrfd/cleaning-and-prepping-data-with-python-for-data-science-best-practices-and-helpful-packages-af1edfbe2a3\n"
   ]
  },
  {
   "cell_type": "code",
   "execution_count": 6,
   "metadata": {},
   "outputs": [],
   "source": [
    "client = bigquery.Client()\n",
    "#https://github.com/blockchain-etl/bitcoin-etl"
   ]
  },
  {
   "cell_type": "code",
   "execution_count": 7,
   "metadata": {},
   "outputs": [
    {
     "name": "stdout",
     "output_type": "stream",
     "text": [
      "Index(['State ', 'Location', 'All Ages, 2012', 'All Ages, 2014',\n",
      "       'Ages 0-20, 2012', 'Ages 0-20, 2014', 'Ages 21-34, 2012',\n",
      "       'Ages 21-34, 2014', 'Ages 35+, 2012', 'Ages 35+, 2014', 'Male, 2012',\n",
      "       'Male, 2014', 'Female, 2012', 'Female, 2014'],\n",
      "      dtype='object')\n",
      "State  is unique: True\n",
      "Location is unique: True\n",
      "All Ages, 2012 is unique: False\n",
      "All Ages, 2014 is unique: False\n",
      "Ages 0-20, 2012 is unique: False\n",
      "Ages 0-20, 2014 is unique: False\n",
      "Ages 21-34, 2012 is unique: False\n",
      "Ages 21-34, 2014 is unique: False\n",
      "Ages 35+, 2012 is unique: False\n",
      "Ages 35+, 2014 is unique: False\n",
      "Male, 2012 is unique: False\n",
      "Male, 2014 is unique: False\n",
      "Female, 2012 is unique: False\n",
      "Female, 2014 is unique: False\n"
     ]
    }
   ],
   "source": [
    "# Get column names\n",
    "column_names = df.columns\n",
    "print(column_names)\n",
    "# Get column data types\n",
    "df.dtypes\n",
    "# Also check if the column is unique\n",
    "for i in column_names:\n",
    "  print('{} is unique: {}'.format(i, df[i].is_unique))"
   ]
  },
  {
   "cell_type": "code",
   "execution_count": null,
   "metadata": {},
   "outputs": [],
   "source": []
  },
  {
   "cell_type": "code",
   "execution_count": 9,
   "metadata": {},
   "outputs": [
    {
     "name": "stderr",
     "output_type": "stream",
     "text": [
      "/opt/anaconda3/lib/python3.7/site-packages/ipykernel_launcher.py:4: FutureWarning: elementwise comparison failed; returning scalar instead, but in the future will perform elementwise comparison\n",
      "  after removing the cwd from sys.path.\n"
     ]
    },
    {
     "data": {
      "text/plain": [
       "False"
      ]
     },
     "execution_count": 9,
     "metadata": {},
     "output_type": "execute_result"
    }
   ],
   "source": [
    "# Check the index values\n",
    "df.index.values\n",
    "# Check if a certain index exists\n",
    "'foo' in df.index.values\n",
    "\n",
    "# If index does not exist\n",
    "# df.set_index('new_column', inplace=True)"
   ]
  },
  {
   "cell_type": "code",
   "execution_count": null,
   "metadata": {},
   "outputs": [],
   "source": []
  },
  {
   "cell_type": "code",
   "execution_count": null,
   "metadata": {},
   "outputs": [],
   "source": []
  },
  {
   "cell_type": "code",
   "execution_count": null,
   "metadata": {},
   "outputs": [],
   "source": []
  },
  {
   "cell_type": "code",
   "execution_count": null,
   "metadata": {},
   "outputs": [],
   "source": []
  },
  {
   "cell_type": "code",
   "execution_count": null,
   "metadata": {},
   "outputs": [],
   "source": []
  },
  {
   "cell_type": "code",
   "execution_count": null,
   "metadata": {},
   "outputs": [],
   "source": []
  },
  {
   "cell_type": "code",
   "execution_count": null,
   "metadata": {},
   "outputs": [],
   "source": []
  }
 ],
 "metadata": {
  "kernelspec": {
   "display_name": "Python 3",
   "language": "python",
   "name": "python3"
  },
  "language_info": {
   "codemirror_mode": {
    "name": "ipython",
    "version": 3
   },
   "file_extension": ".py",
   "mimetype": "text/x-python",
   "name": "python",
   "nbconvert_exporter": "python",
   "pygments_lexer": "ipython3",
   "version": "3.7.5"
  }
 },
 "nbformat": 4,
 "nbformat_minor": 2
}
